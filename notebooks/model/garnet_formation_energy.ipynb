{
 "cells": [
  {
   "cell_type": "code",
   "execution_count": 1,
   "metadata": {},
   "outputs": [
    {
     "name": "stderr",
     "output_type": "stream",
     "text": [
      "/Users/chenchi/miniconda3/lib/python3.7/site-packages/sklearn/utils/deprecation.py:144: FutureWarning:\n",
      "\n",
      "The sklearn.neighbors.unsupervised module is  deprecated in version 0.22 and will be removed in version 0.24. The corresponding classes / functions should instead be imported from sklearn.neighbors. Anything that cannot be imported from sklearn.neighbors is now part of the private API.\n",
      "\n",
      "Using TensorFlow backend.\n"
     ]
    }
   ],
   "source": [
    "import pandas as pd\n",
    "from pymatgen import Structure\n",
    "\n",
    "from maml.describer import DistinctSiteProperty\n",
    "from maml.model import ModelWithSklearn\n",
    "from sklearn.linear_model import LinearRegression\n",
    "import matplotlib.pyplot as plt\n",
    "%matplotlib inline\n"
   ]
  },
  {
   "cell_type": "markdown",
   "metadata": {},
   "source": [
    "## Prepare the data"
   ]
  },
  {
   "cell_type": "code",
   "execution_count": 2,
   "metadata": {},
   "outputs": [],
   "source": [
    "df = pd.read_csv(\"garnet.csv\")\n",
    "df = df[df['FormEnergyPerAtom'] > -5]"
   ]
  },
  {
   "cell_type": "code",
   "execution_count": 3,
   "metadata": {},
   "outputs": [
    {
     "data": {
      "text/html": [
       "<div>\n",
       "<style scoped>\n",
       "    .dataframe tbody tr th:only-of-type {\n",
       "        vertical-align: middle;\n",
       "    }\n",
       "\n",
       "    .dataframe tbody tr th {\n",
       "        vertical-align: top;\n",
       "    }\n",
       "\n",
       "    .dataframe thead th {\n",
       "        text-align: right;\n",
       "    }\n",
       "</style>\n",
       "<table border=\"1\" class=\"dataframe\">\n",
       "  <thead>\n",
       "    <tr style=\"text-align: right;\">\n",
       "      <th></th>\n",
       "      <th>c</th>\n",
       "      <th>a</th>\n",
       "      <th>d</th>\n",
       "      <th>C-IonicRadius</th>\n",
       "      <th>C-ElectroNegativity</th>\n",
       "      <th>A-IonicRadius</th>\n",
       "      <th>A-ElectroNegativity</th>\n",
       "      <th>D-IonicRadius</th>\n",
       "      <th>D-ElectroNegativity</th>\n",
       "      <th>FormEnergyPerAtom</th>\n",
       "    </tr>\n",
       "  </thead>\n",
       "  <tbody>\n",
       "    <tr>\n",
       "      <th>0</th>\n",
       "      <td>Gd3+</td>\n",
       "      <td>Sc3+</td>\n",
       "      <td>Al3+</td>\n",
       "      <td>1.075</td>\n",
       "      <td>1.20</td>\n",
       "      <td>0.885</td>\n",
       "      <td>1.36</td>\n",
       "      <td>0.675</td>\n",
       "      <td>1.61</td>\n",
       "      <td>-0.048480</td>\n",
       "    </tr>\n",
       "    <tr>\n",
       "      <th>1</th>\n",
       "      <td>Ca2+</td>\n",
       "      <td>Sc3+</td>\n",
       "      <td>Ti4+</td>\n",
       "      <td>1.140</td>\n",
       "      <td>1.00</td>\n",
       "      <td>0.885</td>\n",
       "      <td>1.36</td>\n",
       "      <td>0.745</td>\n",
       "      <td>1.54</td>\n",
       "      <td>-0.140997</td>\n",
       "    </tr>\n",
       "    <tr>\n",
       "      <th>2</th>\n",
       "      <td>Cd2+</td>\n",
       "      <td>Cr3+</td>\n",
       "      <td>Ge4+</td>\n",
       "      <td>1.090</td>\n",
       "      <td>1.69</td>\n",
       "      <td>0.755</td>\n",
       "      <td>1.66</td>\n",
       "      <td>0.670</td>\n",
       "      <td>2.01</td>\n",
       "      <td>-0.087724</td>\n",
       "    </tr>\n",
       "    <tr>\n",
       "      <th>3</th>\n",
       "      <td>Mg2+</td>\n",
       "      <td>Al3+</td>\n",
       "      <td>Ge4+</td>\n",
       "      <td>0.860</td>\n",
       "      <td>1.31</td>\n",
       "      <td>0.675</td>\n",
       "      <td>1.61</td>\n",
       "      <td>0.670</td>\n",
       "      <td>2.01</td>\n",
       "      <td>-0.037325</td>\n",
       "    </tr>\n",
       "    <tr>\n",
       "      <th>4</th>\n",
       "      <td>Cd2+</td>\n",
       "      <td>Tm3+</td>\n",
       "      <td>Ti4+</td>\n",
       "      <td>1.090</td>\n",
       "      <td>1.69</td>\n",
       "      <td>1.020</td>\n",
       "      <td>1.25</td>\n",
       "      <td>0.745</td>\n",
       "      <td>1.54</td>\n",
       "      <td>0.004684</td>\n",
       "    </tr>\n",
       "  </tbody>\n",
       "</table>\n",
       "</div>"
      ],
      "text/plain": [
       "      c     a     d  C-IonicRadius  C-ElectroNegativity  A-IonicRadius  \\\n",
       "0  Gd3+  Sc3+  Al3+          1.075                 1.20          0.885   \n",
       "1  Ca2+  Sc3+  Ti4+          1.140                 1.00          0.885   \n",
       "2  Cd2+  Cr3+  Ge4+          1.090                 1.69          0.755   \n",
       "3  Mg2+  Al3+  Ge4+          0.860                 1.31          0.675   \n",
       "4  Cd2+  Tm3+  Ti4+          1.090                 1.69          1.020   \n",
       "\n",
       "   A-ElectroNegativity  D-IonicRadius  D-ElectroNegativity  FormEnergyPerAtom  \n",
       "0                 1.36          0.675                 1.61          -0.048480  \n",
       "1                 1.36          0.745                 1.54          -0.140997  \n",
       "2                 1.66          0.670                 2.01          -0.087724  \n",
       "3                 1.61          0.670                 2.01          -0.037325  \n",
       "4                 1.25          0.745                 1.54           0.004684  "
      ]
     },
     "execution_count": 3,
     "metadata": {},
     "output_type": "execute_result"
    }
   ],
   "source": [
    "df.head()"
   ]
  },
  {
   "cell_type": "code",
   "execution_count": 4,
   "metadata": {},
   "outputs": [],
   "source": [
    "parent = Structure.from_file(\"./Y3Al5O12.cif\")\n",
    "parent.add_oxidation_state_by_guess()\n",
    "mapping = {'C': range(12), 'D': range(12, 24), \"A\": range(24, 32)}"
   ]
  },
  {
   "cell_type": "code",
   "execution_count": 5,
   "metadata": {},
   "outputs": [],
   "source": [
    "## substitute the species to the parent structure\n",
    "\n",
    "structures = []\n",
    "targets = []\n",
    "for i, j in df.iterrows():\n",
    "    s = parent.copy()\n",
    "    for k, indices in mapping.items():\n",
    "        for index in indices:\n",
    "            s.replace(index, j[k.lower()])\n",
    "    structures.append(s)\n",
    "    targets.append(j['FormEnergyPerAtom'])"
   ]
  },
  {
   "cell_type": "markdown",
   "metadata": {},
   "source": [
    "## Model formation energy with DistinctSiteProperty describer and LinearRegression "
   ]
  },
  {
   "cell_type": "code",
   "execution_count": 6,
   "metadata": {},
   "outputs": [],
   "source": [
    "model = ModelWithSklearn(describer=DistinctSiteProperty(wyckoffs=['12c', '12d', '8a'], \n",
    "                                                       properties=['atomic_radius', 'X']), \n",
    "                        model=LinearRegression())"
   ]
  },
  {
   "cell_type": "code",
   "execution_count": 7,
   "metadata": {},
   "outputs": [
    {
     "data": {
      "text/plain": [
       "<maml.base._model.ModelWithSklearn at 0x146807400>"
      ]
     },
     "execution_count": 7,
     "metadata": {},
     "output_type": "execute_result"
    }
   ],
   "source": [
    "model.train(structures[:500], targets[:500])"
   ]
  },
  {
   "cell_type": "code",
   "execution_count": 8,
   "metadata": {},
   "outputs": [],
   "source": [
    "preds = model.predict_objs(structures[500:])"
   ]
  },
  {
   "cell_type": "code",
   "execution_count": 9,
   "metadata": {},
   "outputs": [
    {
     "data": {
      "text/plain": [
       "[<matplotlib.lines.Line2D at 0x14889dac8>]"
      ]
     },
     "execution_count": 9,
     "metadata": {},
     "output_type": "execute_result"
    },
    {
     "data": {
      "image/png": "[encoded data removed]",
      "text/plain": [
       "<Figure size 432x288 with 1 Axes>"
      ]
     },
     "metadata": {
      "needs_background": "light"
     },
     "output_type": "display_data"
    }
   ],
   "source": [
    "plt.plot(targets[500:], preds, 'o')"
   ]
  },
  {
   "cell_type": "markdown",
   "metadata": {},
   "source": [
    "## Model formation energy with ElementProperty describer and Ridge regression "
   ]
  },
  {
   "cell_type": "code",
   "execution_count": 10,
   "metadata": {},
   "outputs": [
    {
     "name": "stderr",
     "output_type": "stream",
     "text": [
      "INFO:maml.describer._matminer_wrapper:Using matminer ElementProperty class\n"
     ]
    }
   ],
   "source": [
    "from maml.describer import ElementProperty\n",
    "from sklearn.linear_model import Ridge\n",
    "\n",
    "model = ModelWithSklearn(describer=ElementProperty.from_preset('magpie'), \n",
    "                         model=Ridge(1e-2))"
   ]
  },
  {
   "cell_type": "code",
   "execution_count": 11,
   "metadata": {},
   "outputs": [],
   "source": [
    "compositions = [i.composition for i in structures]"
   ]
  },
  {
   "cell_type": "code",
   "execution_count": 12,
   "metadata": {},
   "outputs": [
    {
     "data": {
      "text/plain": [
       "<maml.base._model.ModelWithSklearn at 0x1488badd8>"
      ]
     },
     "execution_count": 12,
     "metadata": {},
     "output_type": "execute_result"
    }
   ],
   "source": [
    "model.train(compositions[:500], targets[:500])"
   ]
  },
  {
   "cell_type": "code",
   "execution_count": 13,
   "metadata": {},
   "outputs": [
    {
     "data": {
      "text/plain": [
       "[<matplotlib.lines.Line2D at 0x148972dd8>]"
      ]
     },
     "execution_count": 13,
     "metadata": {},
     "output_type": "execute_result"
    },
    {
     "data": {
      "image/png": "[encoded data removed]",
      "text/plain": [
       "<Figure size 432x288 with 1 Axes>"
      ]
     },
     "metadata": {
      "needs_background": "light"
     },
     "output_type": "display_data"
    }
   ],
   "source": [
    "preds = model.predict_objs(compositions[500:])\n",
    "plt.plot(targets[500:], preds, 'o')"
   ]
  },
  {
   "cell_type": "markdown",
   "metadata": {},
   "source": [
    "## Model formation energy with DistinctSiteProperty describer and Multi-layer Perceptron"
   ]
  },
  {
   "cell_type": "code",
   "execution_count": 16,
   "metadata": {},
   "outputs": [],
   "source": [
    "from keras.models import Sequential\n",
    "from keras.layers import Dense\n",
    "from maml.model import ModelWithKeras\n",
    "\n",
    "\n",
    "k_model = Sequential()\n",
    "k_model.add(Dense(8, input_dim=6, activation='relu'))\n",
    "k_model.add(Dense(1))\n",
    "k_model.compile('adam', 'mse')\n",
    "\n",
    "model = ModelWithKeras(describer=DistinctSiteProperty(wyckoffs=['12c', '12d', '8a'], \n",
    "                                                       properties=['atomic_radius', 'X']), \n",
    "                       model=k_model)"
   ]
  },
  {
   "cell_type": "code",
   "execution_count": 18,
   "metadata": {},
   "outputs": [
    {
     "name": "stdout",
     "output_type": "stream",
     "text": [
      "Epoch 1/100\n",
      "500/500 [==============================] - 0s 61us/step - loss: 0.0344\n",
      "Epoch 2/100\n",
      "500/500 [==============================] - 0s 97us/step - loss: 0.0308\n",
      "Epoch 3/100\n",
      "500/500 [==============================] - 0s 63us/step - loss: 0.0259\n",
      "Epoch 4/100\n",
      "500/500 [==============================] - 0s 64us/step - loss: 0.0221\n",
      "Epoch 5/100\n",
      "500/500 [==============================] - 0s 69us/step - loss: 0.0187\n",
      "Epoch 6/100\n",
      "500/500 [==============================] - 0s 85us/step - loss: 0.0157\n",
      "Epoch 7/100\n",
      "500/500 [==============================] - 0s 73us/step - loss: 0.0137\n",
      "Epoch 8/100\n",
      "500/500 [==============================] - 0s 96us/step - loss: 0.0123\n",
      "Epoch 9/100\n",
      "500/500 [==============================] - 0s 84us/step - loss: 0.0113\n",
      "Epoch 10/100\n",
      "500/500 [==============================] - 0s 57us/step - loss: 0.0108\n",
      "Epoch 11/100\n",
      "500/500 [==============================] - 0s 55us/step - loss: 0.0103\n",
      "Epoch 12/100\n",
      "500/500 [==============================] - 0s 80us/step - loss: 0.0099\n",
      "Epoch 13/100\n",
      "500/500 [==============================] - 0s 69us/step - loss: 0.0096\n",
      "Epoch 14/100\n",
      "500/500 [==============================] - 0s 67us/step - loss: 0.0095\n",
      "Epoch 15/100\n",
      "500/500 [==============================] - 0s 62us/step - loss: 0.0092\n",
      "Epoch 16/100\n",
      "500/500 [==============================] - 0s 61us/step - loss: 0.0090\n",
      "Epoch 17/100\n",
      "500/500 [==============================] - 0s 61us/step - loss: 0.0089\n",
      "Epoch 18/100\n",
      "500/500 [==============================] - 0s 56us/step - loss: 0.0088\n",
      "Epoch 19/100\n",
      "500/500 [==============================] - 0s 83us/step - loss: 0.0087\n",
      "Epoch 20/100\n",
      "500/500 [==============================] - 0s 71us/step - loss: 0.0086\n",
      "Epoch 21/100\n",
      "500/500 [==============================] - 0s 89us/step - loss: 0.0085\n",
      "Epoch 22/100\n",
      "500/500 [==============================] - 0s 66us/step - loss: 0.0084\n",
      "Epoch 23/100\n",
      "500/500 [==============================] - 0s 62us/step - loss: 0.0084\n",
      "Epoch 24/100\n",
      "500/500 [==============================] - 0s 65us/step - loss: 0.0083\n",
      "Epoch 25/100\n",
      "500/500 [==============================] - 0s 61us/step - loss: 0.0083\n",
      "Epoch 26/100\n",
      "500/500 [==============================] - 0s 61us/step - loss: 0.0082\n",
      "Epoch 27/100\n",
      "500/500 [==============================] - 0s 59us/step - loss: 0.0081\n",
      "Epoch 28/100\n",
      "500/500 [==============================] - 0s 62us/step - loss: 0.0081\n",
      "Epoch 29/100\n",
      "500/500 [==============================] - 0s 62us/step - loss: 0.0080\n",
      "Epoch 30/100\n",
      "500/500 [==============================] - 0s 61us/step - loss: 0.0080\n",
      "Epoch 31/100\n",
      "500/500 [==============================] - 0s 53us/step - loss: 0.0080\n",
      "Epoch 32/100\n",
      "500/500 [==============================] - 0s 76us/step - loss: 0.0079\n",
      "Epoch 33/100\n",
      "500/500 [==============================] - 0s 64us/step - loss: 0.0078\n",
      "Epoch 34/100\n",
      "500/500 [==============================] - 0s 70us/step - loss: 0.0078\n",
      "Epoch 35/100\n",
      "500/500 [==============================] - 0s 64us/step - loss: 0.0078\n",
      "Epoch 36/100\n",
      "500/500 [==============================] - 0s 77us/step - loss: 0.0078\n",
      "Epoch 37/100\n",
      "500/500 [==============================] - 0s 86us/step - loss: 0.0077\n",
      "Epoch 38/100\n",
      "500/500 [==============================] - 0s 192us/step - loss: 0.0077\n",
      "Epoch 39/100\n",
      "500/500 [==============================] - 0s 151us/step - loss: 0.0077\n",
      "Epoch 40/100\n",
      "500/500 [==============================] - 0s 92us/step - loss: 0.0077\n",
      "Epoch 41/100\n",
      "500/500 [==============================] - 0s 77us/step - loss: 0.0076\n",
      "Epoch 42/100\n",
      "500/500 [==============================] - 0s 71us/step - loss: 0.0076\n",
      "Epoch 43/100\n",
      "500/500 [==============================] - 0s 92us/step - loss: 0.0076\n",
      "Epoch 44/100\n",
      "500/500 [==============================] - 0s 69us/step - loss: 0.0075\n",
      "Epoch 45/100\n",
      "500/500 [==============================] - 0s 66us/step - loss: 0.0075\n",
      "Epoch 46/100\n",
      "500/500 [==============================] - 0s 98us/step - loss: 0.0075\n",
      "Epoch 47/100\n",
      "500/500 [==============================] - 0s 115us/step - loss: 0.0075\n",
      "Epoch 48/100\n",
      "500/500 [==============================] - 0s 179us/step - loss: 0.0075\n",
      "Epoch 49/100\n",
      "500/500 [==============================] - 0s 267us/step - loss: 0.0075\n",
      "Epoch 50/100\n",
      "500/500 [==============================] - 0s 66us/step - loss: 0.0075\n",
      "Epoch 51/100\n",
      "500/500 [==============================] - 0s 62us/step - loss: 0.0074\n",
      "Epoch 52/100\n",
      "500/500 [==============================] - 0s 75us/step - loss: 0.0074\n",
      "Epoch 53/100\n",
      "500/500 [==============================] - 0s 73us/step - loss: 0.0074\n",
      "Epoch 54/100\n",
      "500/500 [==============================] - 0s 97us/step - loss: 0.0074\n",
      "Epoch 55/100\n",
      "500/500 [==============================] - 0s 285us/step - loss: 0.0074\n",
      "Epoch 56/100\n",
      "500/500 [==============================] - 0s 319us/step - loss: 0.0074 0s - loss: 0.00\n",
      "Epoch 57/100\n",
      "500/500 [==============================] - 0s 220us/step - loss: 0.0073\n",
      "Epoch 58/100\n",
      "500/500 [==============================] - 0s 87us/step - loss: 0.0073\n",
      "Epoch 59/100\n",
      "500/500 [==============================] - 0s 127us/step - loss: 0.0073\n",
      "Epoch 60/100\n",
      "500/500 [==============================] - 0s 190us/step - loss: 0.0073\n",
      "Epoch 61/100\n",
      "500/500 [==============================] - 0s 127us/step - loss: 0.0073\n",
      "Epoch 62/100\n",
      "500/500 [==============================] - 0s 135us/step - loss: 0.0074\n",
      "Epoch 63/100\n",
      "500/500 [==============================] - 0s 89us/step - loss: 0.0073\n",
      "Epoch 64/100\n",
      "500/500 [==============================] - 0s 146us/step - loss: 0.0072\n",
      "Epoch 65/100\n",
      "500/500 [==============================] - 0s 181us/step - loss: 0.0072\n",
      "Epoch 66/100\n",
      "500/500 [==============================] - 0s 134us/step - loss: 0.0072\n",
      "Epoch 67/100\n",
      "500/500 [==============================] - 0s 105us/step - loss: 0.0071\n",
      "Epoch 68/100\n",
      "500/500 [==============================] - 0s 129us/step - loss: 0.0072\n",
      "Epoch 69/100\n",
      "500/500 [==============================] - 0s 289us/step - loss: 0.0072\n",
      "Epoch 70/100\n",
      "500/500 [==============================] - 0s 232us/step - loss: 0.0072\n",
      "Epoch 71/100\n",
      "500/500 [==============================] - 0s 275us/step - loss: 0.0072\n",
      "Epoch 72/100\n",
      "500/500 [==============================] - 0s 144us/step - loss: 0.0072\n",
      "Epoch 73/100\n",
      "500/500 [==============================] - 0s 97us/step - loss: 0.0071\n",
      "Epoch 74/100\n",
      "500/500 [==============================] - 0s 182us/step - loss: 0.0071\n",
      "Epoch 75/100\n",
      "500/500 [==============================] - 0s 177us/step - loss: 0.0071\n",
      "Epoch 76/100\n",
      "500/500 [==============================] - 0s 106us/step - loss: 0.0071\n",
      "Epoch 77/100\n",
      "500/500 [==============================] - 0s 67us/step - loss: 0.0070\n",
      "Epoch 78/100\n",
      "500/500 [==============================] - 0s 75us/step - loss: 0.0070\n",
      "Epoch 79/100\n",
      "500/500 [==============================] - 0s 82us/step - loss: 0.0071\n",
      "Epoch 80/100\n",
      "500/500 [==============================] - 0s 94us/step - loss: 0.0070\n",
      "Epoch 81/100\n",
      "500/500 [==============================] - 0s 104us/step - loss: 0.0070\n",
      "Epoch 82/100\n",
      "500/500 [==============================] - 0s 86us/step - loss: 0.0070\n",
      "Epoch 83/100\n",
      "500/500 [==============================] - 0s 104us/step - loss: 0.0070\n",
      "Epoch 84/100\n",
      "500/500 [==============================] - 0s 98us/step - loss: 0.0069\n",
      "Epoch 85/100\n",
      "500/500 [==============================] - 0s 97us/step - loss: 0.0069\n",
      "Epoch 86/100\n",
      "500/500 [==============================] - 0s 70us/step - loss: 0.0069\n",
      "Epoch 87/100\n",
      "500/500 [==============================] - 0s 78us/step - loss: 0.0069\n",
      "Epoch 88/100\n",
      "500/500 [==============================] - 0s 122us/step - loss: 0.0068\n",
      "Epoch 89/100\n",
      "500/500 [==============================] - 0s 92us/step - loss: 0.0068\n",
      "Epoch 90/100\n",
      "500/500 [==============================] - 0s 69us/step - loss: 0.0069\n",
      "Epoch 91/100\n",
      "500/500 [==============================] - 0s 86us/step - loss: 0.0070\n",
      "Epoch 92/100\n",
      "500/500 [==============================] - 0s 72us/step - loss: 0.0069\n",
      "Epoch 93/100\n",
      "500/500 [==============================] - 0s 77us/step - loss: 0.0069\n",
      "Epoch 94/100\n",
      "500/500 [==============================] - 0s 72us/step - loss: 0.0068\n",
      "Epoch 95/100\n",
      "500/500 [==============================] - 0s 61us/step - loss: 0.0068\n",
      "Epoch 96/100\n",
      "500/500 [==============================] - 0s 52us/step - loss: 0.0068\n",
      "Epoch 97/100\n",
      "500/500 [==============================] - 0s 54us/step - loss: 0.0067\n",
      "Epoch 98/100\n"
     ]
    },
    {
     "name": "stdout",
     "output_type": "stream",
     "text": [
      "500/500 [==============================] - 0s 114us/step - loss: 0.0068\n",
      "Epoch 99/100\n",
      "500/500 [==============================] - 0s 121us/step - loss: 0.0068\n",
      "Epoch 100/100\n",
      "500/500 [==============================] - 0s 64us/step - loss: 0.0067\n"
     ]
    },
    {
     "data": {
      "text/plain": [
       "<maml.base._model.ModelWithKeras at 0x14b87d7f0>"
      ]
     },
     "execution_count": 18,
     "metadata": {},
     "output_type": "execute_result"
    }
   ],
   "source": [
    "model.train(structures[:500], targets[:500], epochs=100)"
   ]
  },
  {
   "cell_type": "code",
   "execution_count": 20,
   "metadata": {},
   "outputs": [
    {
     "data": {
      "text/plain": [
       "[<matplotlib.lines.Line2D at 0x14bc26278>]"
      ]
     },
     "execution_count": 20,
     "metadata": {},
     "output_type": "execute_result"
    },
    {
     "data": {
      "image/png": "[encoded data removed]",
      "text/plain": [
       "<Figure size 432x288 with 1 Axes>"
      ]
     },
     "metadata": {
      "needs_background": "light"
     },
     "output_type": "display_data"
    }
   ],
   "source": [
    "preds = model.predict_objs(structures[500:])\n",
    "plt.plot(targets[500:], preds, 'o')"
   ]
  },
  {
   "cell_type": "code",
   "execution_count": null,
   "metadata": {},
   "outputs": [],
   "source": []
  }
 ],
 "metadata": {
  "kernelspec": {
   "display_name": "Python 3",
   "language": "python",
   "name": "python3"
  },
  "language_info": {
   "codemirror_mode": {
    "name": "ipython",
    "version": 3
   },
   "file_extension": ".py",
   "mimetype": "text/x-python",
   "name": "python",
   "nbconvert_exporter": "python",
   "pygments_lexer": "ipython3",
   "version": "3.7.3"
  }
 },
 "nbformat": 4,
 "nbformat_minor": 2
}
